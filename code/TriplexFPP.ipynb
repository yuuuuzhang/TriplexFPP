{
 "cells": [
  {
   "cell_type": "code",
   "execution_count": null,
   "metadata": {},
   "outputs": [],
   "source": [
    "from triplex_util import triplex_lncRNA, triplex_DNA, cis_trans"
   ]
  },
  {
   "cell_type": "markdown",
   "metadata": {},
   "source": [
    "## triplex lncRNA prediction"
   ]
  },
  {
   "cell_type": "code",
   "execution_count": null,
   "metadata": {},
   "outputs": [],
   "source": [
    "datapath = '.../...' # specify the location\n",
    "inputfile = datapath+'input_example/triplexlncRNA_test.fasta' # specify the inputfile location and name, it has to be in .fasta format, do not contain letter other than \"ACGT\"\n",
    "outputname = 'triplexlncRNA_results.csv'\n",
    "\n",
    "triplex_lncRNA(inputfile,datapath,outputname)"
   ]
  },
  {
   "cell_type": "markdown",
   "metadata": {},
   "source": [
    "## triplex DNA prediction"
   ]
  },
  {
   "cell_type": "code",
   "execution_count": null,
   "metadata": {},
   "outputs": [],
   "source": [
    "datapath = '.../...' # specify the location\n",
    "inputfile = datapath+'input_example/triplexDNA_test.fasta' # specify the inputfile location and name, it has to be in .fasta format, do not contain letter other than \"ACGT\"\n",
    "outputname = 'triplexDNA_results.csv'\n",
    "triplex_DNA(inputfile,datapath,outputname)"
   ]
  },
  {
   "cell_type": "markdown",
   "metadata": {},
   "source": [
    "## in cis / in trans lncRNA prediction "
   ]
  },
  {
   "cell_type": "code",
   "execution_count": null,
   "metadata": {},
   "outputs": [],
   "source": [
    "datapath = '.../...' # specify the location\n",
    "inputfile = datapath+'input_example/cis_trans_test.fasta' # specify the inputfile location and name, it has to be in .fasta format, do not contain letter other than \"ACGT\"\n",
    "outputname = 'trans.csv'\n",
    "cis_trans(inputfile,datapath,outputname)"
   ]
  },
  {
   "cell_type": "code",
   "execution_count": null,
   "metadata": {},
   "outputs": [],
   "source": []
  }
 ],
 "metadata": {
  "kernelspec": {
   "display_name": "Python 3",
   "language": "python",
   "name": "python3"
  },
  "language_info": {
   "codemirror_mode": {
    "name": "ipython",
    "version": 3
   },
   "file_extension": ".py",
   "mimetype": "text/x-python",
   "name": "python",
   "nbconvert_exporter": "python",
   "pygments_lexer": "ipython3",
   "version": "3.6.7"
  }
 },
 "nbformat": 4,
 "nbformat_minor": 2
}
