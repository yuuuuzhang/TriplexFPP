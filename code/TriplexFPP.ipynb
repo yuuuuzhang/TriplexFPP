{
 "cells": [
  {
   "cell_type": "code",
   "execution_count": null,
   "metadata": {},
   "outputs": [],
   "source": [
    "from triplex_util import triplex_lncRNA, triplex_DNA, cis_trans"
   ]
  },
  {
   "cell_type": "markdown",
   "metadata": {},
   "source": [
    "## triplex lncRNA prediction"
   ]
  },
  {
   "cell_type": "code",
   "execution_count": null,
   "metadata": {},
   "outputs": [],
   "source": [
    "datapath = '.../...' # specify the location\n",
    "inputfile = datapath+'input_example/triplexlncRNA_test.fasta' # specify the inputfile location and name, it has to be in .fasta or .fa format, do not contain letter other than \"ACGT\"\n",
    "outputname = 'triplexlncRNA_results.csv'\n",
    "\n",
    "triplex_lncRNA(inputfile,datapath,outputname)"
   ]
  },
  {
   "cell_type": "markdown",
   "metadata": {},
   "source": [
    "## triplex DNA prediction"
   ]
  },
  {
   "cell_type": "code",
   "execution_count": null,
   "metadata": {},
   "outputs": [],
   "source": [
    "datapath = '.../...' # specify the location\n",
    "inputfile = datapath+'input_example/triplexDNA_test.fasta' # specify the inputfile location and name, it has to be in .fasta or .fa format, do not contain letter other than \"ACGT\"\n",
    "outputname = 'triplexDNA_results.csv'\n",
    "triplex_DNA(inputfile,datapath,outputname)"
   ]
  },
  
